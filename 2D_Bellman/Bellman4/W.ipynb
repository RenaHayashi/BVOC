{
 "cells": [
  {
   "cell_type": "code",
   "execution_count": 34,
   "id": "c6b9785d",
   "metadata": {},
   "outputs": [],
   "source": [
    "import pandas as pd\n",
    "import matplotlib.pyplot as plt\n",
    "from matplotlib import ticker, cm, colors\n",
    "from matplotlib.colors import LogNorm\n",
    "import seaborn as sns\n",
    "import numpy as np\n",
    "from scipy.integrate import odeint\n",
    "from scipy.integrate import ode\n",
    "import scipy.ndimage\n",
    "import glob\n",
    "import os\n",
    "from fractions import Fraction\n",
    "import csv\n",
    "import itertools\n",
    "import math\n",
    "from scipy import stats"
   ]
  },
  {
   "cell_type": "code",
   "execution_count": 35,
   "id": "c10f768d",
   "metadata": {},
   "outputs": [],
   "source": [
    "# colormapをカスタマイズする\n",
    "from matplotlib.colors import LinearSegmentedColormap\n",
    "\n",
    "def generate_cmap(colors):\n",
    "    \"\"\"自分で定義したカラーマップを返す\"\"\"\n",
    "    values = range(len(colors))\n",
    "\n",
    "    vmax = np.ceil(np.max(values))\n",
    "    color_list = []\n",
    "    for v, c in zip(values, colors):\n",
    "        color_list.append( ( v/ vmax, c) )\n",
    "    return LinearSegmentedColormap.from_list('custom_cmap', color_list)\n",
    "\n",
    "#plotの文字定義\n",
    "plt.rcParams['font.family'] = 'Times New Roman'\n",
    "plt.rcParams['font.size'] = 14\n",
    "plt.rcParams[\"mathtext.fontset\"] = 'stix'\n",
    "\n",
    "# os.makedirs(\"./w_record/\", exist_ok=True)\n",
    "os.makedirs(\"./s_record/\", exist_ok=True)"
   ]
  },
  {
   "cell_type": "code",
   "execution_count": 36,
   "id": "ea104b64",
   "metadata": {},
   "outputs": [],
   "source": [
    "#関数の定義\n",
    "def getNear(list, num):\n",
    "    \"\"\"\n",
    "    概要: リストからある値に最も近い値を返却する関数\n",
    "    @param list: データ配列\n",
    "    @param num: 対象値\n",
    "    @return 対象値に最も近い値\n",
    "    \"\"\"\n",
    "\n",
    "    # リスト要素と対象値の差分を計算し最小値のインデックスを取得\n",
    "    idx = np.abs(np.asarray(list) - num).argmin()\n",
    "    return idx"
   ]
  },
  {
   "cell_type": "code",
   "execution_count": 97,
   "id": "5218fe89",
   "metadata": {},
   "outputs": [
    {
     "name": "stdout",
     "output_type": "stream",
     "text": [
      "41\n"
     ]
    }
   ],
   "source": [
    "alpha = 0.025\n",
    "beta = 0.25\n",
    "side = 41\n",
    "square = side**2\n",
    "idx_list = list(range(side))\n",
    "l_list = [round(n*alpha, 2) for n in idx_list]\n",
    "idx_vlist = list(range(side))\n",
    "v_list = [round(n*beta, 2) for n in idx_list]\n",
    "len_v = len(v_list)\n",
    "df_LV = pd.DataFrame(np.zeros(square).reshape(side, side),columns=l_list,index=v_list)\n",
    "df_S = pd.DataFrame(np.zeros(square).reshape(side ,side),columns=l_list,index=v_list)\n",
    "# print(LV)\n",
    "dt = 5\n",
    "t_end=365\n",
    "len_t = 1+int(t_end/dt)\n",
    "# print (len_t)\n",
    "p = 1\n",
    "h=0.012\n",
    "a=0.012\n",
    "u=0.0001\n",
    "k=0.02\n",
    "print(len_v)"
   ]
  },
  {
   "cell_type": "code",
   "execution_count": 98,
   "id": "5e8234f9",
   "metadata": {},
   "outputs": [
    {
     "name": "stdout",
     "output_type": "stream",
     "text": [
      "t= 365\n",
      "t= 360\n",
      "t= 355\n",
      "t= 350\n",
      "t= 345\n",
      "t= 340\n",
      "t= 335\n",
      "t= 330\n",
      "t= 325\n",
      "t= 320\n",
      "t= 315\n",
      "t= 310\n",
      "t= 305\n",
      "t= 300\n",
      "t= 295\n",
      "t= 290\n",
      "t= 285\n",
      "t= 280\n",
      "t= 275\n",
      "t= 270\n",
      "t= 265\n",
      "t= 260\n",
      "t= 255\n",
      "t= 250\n",
      "t= 245\n",
      "t= 240\n",
      "t= 235\n",
      "t= 230\n",
      "t= 225\n",
      "t= 220\n",
      "t= 215\n",
      "t= 210\n",
      "t= 205\n",
      "t= 200\n",
      "t= 195\n",
      "t= 190\n",
      "t= 185\n",
      "t= 180\n",
      "t= 175\n",
      "t= 170\n",
      "t= 165\n",
      "t= 160\n",
      "t= 155\n",
      "t= 150\n",
      "t= 145\n",
      "t= 140\n",
      "t= 135\n",
      "t= 130\n",
      "t= 125\n",
      "t= 120\n",
      "t= 115\n",
      "t= 110\n",
      "t= 105\n",
      "t= 100\n",
      "t= 95\n",
      "t= 90\n",
      "t= 85\n",
      "t= 80\n",
      "t= 75\n",
      "t= 70\n",
      "t= 65\n",
      "t= 60\n",
      "t= 55\n",
      "t= 50\n",
      "t= 45\n",
      "t= 40\n",
      "t= 35\n",
      "t= 30\n",
      "t= 25\n",
      "t= 20\n",
      "t= 15\n",
      "t= 10\n",
      "t= 5\n",
      "t= 0\n"
     ]
    }
   ],
   "source": [
    "for kk in range(len_t):\n",
    "    t = round(t_end-kk*dt, 1)\n",
    "    # csvname_w='./w_record/'+\"t=\"+str(t)+'.csv'\n",
    "    # df_LV.to_csv(csvname_w)\n",
    "    csvname_s='./s_record/'+\"t=\"+str(t)+'.csv'\n",
    "    df_S.to_csv(csvname_s)\n",
    "    for i in range(len_v):\n",
    "        for j in range(len_v):\n",
    "            s_list=list()\n",
    "            w_list=list()\n",
    "            l  = round(i/(len_v-1),1)\n",
    "            v  = round(j/(len_v-1),1)\n",
    "\n",
    "            ll = (1-dt*((h/(1+a*v))+u))*l\n",
    "            l_near_idx = getNear(l_list, ll)\n",
    "            l_near = l_list[l_near_idx]\n",
    "            # +-1に注意\n",
    "            if l_near<ll:\n",
    "                l1 = l_near\n",
    "                l2 = l_list[l_near_idx+1]\n",
    "                l1_idx = l_near_idx\n",
    "                l2_idx = l_near_idx+1\n",
    "            else:\n",
    "                l1 = l_list[l_near_idx-1]\n",
    "                l2 = l_near\n",
    "                l1_idx = l_near_idx-1\n",
    "                l2_idx = l_near_idx\n",
    "            \n",
    "            vv = v*(1-k*dt)\n",
    "            v_near_idx = getNear(v_list, vv)\n",
    "            v_near = v_list[v_near_idx]\n",
    "            if v_near<vv:\n",
    "                v_near_idx = v_near_idx+1\n",
    "                v_near = v_list[v_near_idx]\n",
    "            # print(l2_idx, v_near_idx)\n",
    "            # print(l2)\n",
    "\n",
    "            for ii in range(v_near_idx, len_v):\n",
    "                \n",
    "                w2 = df_LV.iat[l2_idx,ii]\n",
    "                w1 = df_LV.iat[l1_idx,ii]\n",
    "                s=v_list[ii] - v*(1-k*dt)\n",
    "                w =(p-s)*ll +((l2-ll)*w2 + (ll-l1)*w1)/alpha\n",
    "                \n",
    "                s_list.append(s)\n",
    "                w_list.append(w)\n",
    "            \n",
    "            w_max = max(w_list)\n",
    "            w_max_index = np.argmax(w_list)\n",
    "            # print(w_max_index)\n",
    "            s = float(s_list[w_max_index])\n",
    "            # print(\"l=\",l,\"v=\",v,\"w=\",w_max,\"s=\",s)\n",
    "            df_LV.iat[i,j]=w_max\n",
    "            df_S.iat[i,j]=s\n",
    "    print(\"t=\", t)\n",
    "\n"
   ]
  },
  {
   "cell_type": "code",
   "execution_count": 99,
   "id": "3c04ded2",
   "metadata": {},
   "outputs": [],
   "source": [
    "#L, V plot\n",
    "L = 1\n",
    "V = 0\n",
    "tt = 0\n",
    "\n",
    "\n",
    "L_list = [L]\n",
    "V_list = [V]\n",
    "t_list = [tt]\n",
    "ss_list =[0]\n",
    "for i in range(len_t):\n",
    "  tt = round(dt*i, 2)\n",
    "  # print(tt)\n",
    "  L_near_idx = getNear(l_list, L)\n",
    "  V_near_idx = getNear(v_list, V)\n",
    "  filename = \"./s_record/t=\" + str(tt) + \".csv\"\n",
    "  with open(filename) as f:\n",
    "    reader = csv.reader(f)\n",
    "    l = [row for row in reader]\n",
    "\n",
    "  s = float(l[L_near_idx][V_near_idx])\n",
    "  # print(s)\n",
    "  # s = float(s.replace('．', '.'))\n",
    "  L = L - ((h/(1+a*V))+u)*L*dt\n",
    "  V = V + (s - k*V)*dt\n",
    "  t_list.append(tt)\n",
    "  L_list.append(L)\n",
    "  V_list.append(V)\n",
    "  ss_list.append(s)\n"
   ]
  },
  {
   "cell_type": "code",
   "execution_count": 100,
   "id": "65e75e88",
   "metadata": {},
   "outputs": [
    {
     "data": {
      "image/png": "[encoded data removed]",
      "text/plain": [
       "<Figure size 640x480 with 1 Axes>"
      ]
     },
     "metadata": {},
     "output_type": "display_data"
    }
   ],
   "source": [
    "Figure, ax = plt.subplots()\n",
    "ax.plot(t_list, L_list, color = \"black\", label=\"L\")\n",
    "ax.set_ylim([0,1])\n",
    "ax.legend()\n",
    "plt.savefig(\"L.png\")"
   ]
  },
  {
   "cell_type": "code",
   "execution_count": 101,
   "id": "5a610766",
   "metadata": {},
   "outputs": [
    {
     "data": {
      "image/png": "[encoded data removed]",
      "text/plain": [
       "<Figure size 640x480 with 1 Axes>"
      ]
     },
     "metadata": {},
     "output_type": "display_data"
    }
   ],
   "source": [
    "plt.plot(t_list, V_list, color = \"black\", label=\"V\")\n",
    "plt.legend()\n",
    "plt.savefig(\"V.png\")"
   ]
  },
  {
   "cell_type": "code",
   "execution_count": 102,
   "id": "4508afcf",
   "metadata": {},
   "outputs": [
    {
     "data": {
      "image/png": "[encoded data removed]",
      "text/plain": [
       "<Figure size 640x480 with 1 Axes>"
      ]
     },
     "metadata": {},
     "output_type": "display_data"
    }
   ],
   "source": [
    "plt.plot(t_list, ss_list, color = \"black\", label=\"s\")\n",
    "plt.legend()\n",
    "plt.savefig(\"s.png\")"
   ]
  },
  {
   "cell_type": "code",
   "execution_count": null,
   "id": "be1a6864",
   "metadata": {},
   "outputs": [],
   "source": []
  }
 ],
 "metadata": {
  "kernelspec": {
   "display_name": "Python 3 (ipykernel)",
   "language": "python",
   "name": "python3"
  },
  "language_info": {
   "codemirror_mode": {
    "name": "ipython",
    "version": 3
   },
   "file_extension": ".py",
   "mimetype": "text/x-python",
   "name": "python",
   "nbconvert_exporter": "python",
   "pygments_lexer": "ipython3",
   "version": "3.9.13"
  }
 },
 "nbformat": 4,
 "nbformat_minor": 5
}
