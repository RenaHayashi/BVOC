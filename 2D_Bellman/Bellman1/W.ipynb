{
 "cells": [
  {
   "cell_type": "code",
   "execution_count": 32,
   "id": "c6b9785d",
   "metadata": {},
   "outputs": [],
   "source": [
    "import pandas as pd\n",
    "import matplotlib.pyplot as plt\n",
    "from matplotlib import ticker, cm, colors\n",
    "from matplotlib.colors import LogNorm\n",
    "import seaborn as sns\n",
    "import numpy as np\n",
    "from scipy.integrate import odeint\n",
    "from scipy.integrate import ode\n",
    "import scipy.ndimage\n",
    "import glob\n",
    "import os\n",
    "from fractions import Fraction\n",
    "import csv\n",
    "import itertools\n",
    "import math\n",
    "from scipy import stats"
   ]
  },
  {
   "cell_type": "code",
   "execution_count": 33,
   "id": "c10f768d",
   "metadata": {},
   "outputs": [],
   "source": [
    "# colormapをカスタマイズする\n",
    "from matplotlib.colors import LinearSegmentedColormap\n",
    "\n",
    "def generate_cmap(colors):\n",
    "    \"\"\"自分で定義したカラーマップを返す\"\"\"\n",
    "    values = range(len(colors))\n",
    "\n",
    "    vmax = np.ceil(np.max(values))\n",
    "    color_list = []\n",
    "    for v, c in zip(values, colors):\n",
    "        color_list.append( ( v/ vmax, c) )\n",
    "    return LinearSegmentedColormap.from_list('custom_cmap', color_list)\n",
    "\n",
    "#plotの文字定義\n",
    "plt.rcParams['font.family'] = 'Times New Roman'\n",
    "plt.rcParams['font.size'] = 14\n",
    "plt.rcParams[\"mathtext.fontset\"] = 'stix'\n",
    "\n",
    "os.makedirs(\"./w_record/\", exist_ok=True)\n",
    "os.makedirs(\"./s_record/\", exist_ok=True)"
   ]
  },
  {
   "cell_type": "code",
   "execution_count": 34,
   "id": "ea104b64",
   "metadata": {},
   "outputs": [],
   "source": [
    "#関数の定義\n",
    "def getNear(list, num):\n",
    "    \"\"\"\n",
    "    概要: リストからある値に最も近い値を返却する関数\n",
    "    @param list: データ配列\n",
    "    @param num: 対象値\n",
    "    @return 対象値に最も近い値\n",
    "    \"\"\"\n",
    "\n",
    "    # リスト要素と対象値の差分を計算し最小値のインデックスを取得\n",
    "    idx = np.abs(np.asarray(list) - num).argmin()\n",
    "    return idx"
   ]
  },
  {
   "cell_type": "code",
   "execution_count": 38,
   "id": "5218fe89",
   "metadata": {},
   "outputs": [
    {
     "name": "stdout",
     "output_type": "stream",
     "text": [
      "51\n"
     ]
    }
   ],
   "source": [
    "alpha = 0.2\n",
    "idx_list = list(range(51))\n",
    "l_list = [round(n*alpha, 2) for n in idx_list]\n",
    "idx_vlist = list(range(51))\n",
    "v_list = [round(n*alpha, 2) for n in idx_list]\n",
    "len_v = len(v_list)\n",
    "df_LV = pd.DataFrame(np.zeros(2601).reshape(51, 51),columns=l_list,index=v_list)\n",
    "df_S = pd.DataFrame(np.zeros(2601).reshape(51, 51),columns=l_list,index=v_list)\n",
    "# print(LV)\n",
    "dt = 1\n",
    "t_end=10\n",
    "len_t = 1+int(t_end/dt)\n",
    "# print (len_t)\n",
    "p = 2\n",
    "h=0.01\n",
    "a=0.1\n",
    "u=0.001\n",
    "k=0.1\n",
    "print(len_v)"
   ]
  },
  {
   "cell_type": "code",
   "execution_count": 39,
   "id": "5e8234f9",
   "metadata": {},
   "outputs": [
    {
     "name": "stdout",
     "output_type": "stream",
     "text": [
      "t= 10\n",
      "t= 9\n",
      "t= 8\n",
      "t= 7\n",
      "t= 6\n",
      "t= 5\n",
      "t= 4\n",
      "t= 3\n",
      "t= 2\n",
      "t= 1\n",
      "t= 0\n"
     ]
    }
   ],
   "source": [
    "for kk in range(len_t):\n",
    "    t = round(t_end-kk*dt, 1)\n",
    "    csvname_w='./w_record/'+\"t=\"+str(t)+'.csv'\n",
    "    df_LV.to_csv(csvname_w)\n",
    "    csvname_s='./s_record/'+\"t=\"+str(t)+'.csv'\n",
    "    df_S.to_csv(csvname_s)\n",
    "    for i in range(len_v):\n",
    "        for j in range(len_v):\n",
    "            s_list=list()\n",
    "            w_list=list()\n",
    "            l  = round(i/(len_v-1),1)\n",
    "            v  = round(j/(len_v-1),1)\n",
    "\n",
    "            ll = (1-dt*((h/(1+a*v))+u))*l\n",
    "            l_near_idx = getNear(l_list, ll)\n",
    "            l_near = l_list[l_near_idx]\n",
    "            # +-1に注意\n",
    "            if l_near<ll:\n",
    "                l1 = l_near\n",
    "                l2 = l_list[l_near_idx+1]\n",
    "                l1_idx = l_near_idx\n",
    "                l2_idx = l_near_idx+1\n",
    "            else:\n",
    "                l1 = l_list[l_near_idx-1]\n",
    "                l2 = l_near\n",
    "                l1_idx = l_near_idx-1\n",
    "                l2_idx = l_near_idx\n",
    "            \n",
    "            vv = v*(1-k*dt)\n",
    "            v_near_idx = getNear(v_list, vv)\n",
    "            v_near = v_list[v_near_idx]\n",
    "            if v_near<vv:\n",
    "                v_near_idx = v_near_idx+1\n",
    "                v_near = v_list[v_near_idx]\n",
    "            # print(l2_idx, v_near_idx)\n",
    "            # print(l2)\n",
    "\n",
    "            for ii in range(v_near_idx, len_v):\n",
    "                \n",
    "                w2 = df_LV.iat[l2_idx,ii]\n",
    "                w1 = df_LV.iat[l1_idx,ii]\n",
    "                s=v_list[ii] - v*(1-k*dt)\n",
    "                w =(p-s)*ll +((l2-ll)*w2 + (ll-l1)*w1)/alpha\n",
    "                \n",
    "                s_list.append(s)\n",
    "                w_list.append(w)\n",
    "            \n",
    "            w_max = max(w_list)\n",
    "            w_max_index = np.argmax(w_list)\n",
    "            # print(w_max_index)\n",
    "            s = s_list[w_max_index]\n",
    "            # print(\"l=\",l,\"v=\",v,\"w=\",w_max,\"s=\",s)\n",
    "            df_LV.iat[i,j]=w_max\n",
    "            df_S.iat[i,j]=s\n",
    "    print(\"t=\", t)\n",
    "\n"
   ]
  },
  {
   "cell_type": "code",
   "execution_count": null,
   "id": "3c04ded2",
   "metadata": {},
   "outputs": [],
   "source": []
  }
 ],
 "metadata": {
  "kernelspec": {
   "display_name": "Python 3 (ipykernel)",
   "language": "python",
   "name": "python3"
  },
  "language_info": {
   "codemirror_mode": {
    "name": "ipython",
    "version": 3
   },
   "file_extension": ".py",
   "mimetype": "text/x-python",
   "name": "python",
   "nbconvert_exporter": "python",
   "pygments_lexer": "ipython3",
   "version": "3.10.9"
  }
 },
 "nbformat": 4,
 "nbformat_minor": 5
}
